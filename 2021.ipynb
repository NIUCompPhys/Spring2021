{
  "nbformat": 4,
  "nbformat_minor": 0,
  "metadata": {
    "colab": {
      "name": "2021",
      "provenance": [],
      "authorship_tag": "ABX9TyNf6P1qkX03m3TmdbuhzAAL",
      "include_colab_link": true
    },
    "kernelspec": {
      "name": "python3",
      "display_name": "Python 3"
    }
  },
  "cells": [
    {
      "cell_type": "markdown",
      "metadata": {
        "id": "view-in-github",
        "colab_type": "text"
      },
      "source": [
        "<a href=\"https://colab.research.google.com/github/NIUCompPhys/Spring2021/blob/master/2021.ipynb\" target=\"_parent\"><img src=\"https://colab.research.google.com/assets/colab-badge.svg\" alt=\"Open In Colab\"/></a>"
      ]
    },
    {
      "cell_type": "code",
      "metadata": {
        "colab": {
          "base_uri": "https://localhost:8080/",
          "height": 54
        },
        "id": "ns7hn4GssINv",
        "outputId": "b0d17683-00a2-4790-ccca-6bab0cbe1345"
      },
      "source": [
        "import datetime\n",
        "import matplotlib.pyplot as plt\n",
        "import time\n",
        "import IPython\n",
        "\n",
        "def increase_font():\n",
        "  from IPython.display import Javascript\n",
        "  display(Javascript('''\n",
        "  for (rule of document.styleSheets[0].cssRules){\n",
        "    if (rule.selectorText=='body') {\n",
        "      rule.style.fontSize = '30px'\n",
        "      break\n",
        "    }\n",
        "  }\n",
        "  '''))\n",
        "\n",
        "increase_font()\n",
        "out = display(IPython.display.Pretty('Calculating'), display_id=True)\n",
        "while (1):\n",
        "  time_now = datetime.datetime.now()\n",
        "  time_2022 = datetime.datetime(2022, 1, 1)\n",
        "  diff = time_2022-time_now\n",
        "  seconds = int(diff.total_seconds())\n",
        "  text=\"Terrible news! There are still \"+str(seconds)+\" seconds left until 2022\"\n",
        "  out.update(IPython.display.Pretty(text))\n",
        "  time.sleep(1)"
      ],
      "execution_count": null,
      "outputs": [
        {
          "output_type": "display_data",
          "data": {
            "application/javascript": [
              "\n",
              "  for (rule of document.styleSheets[0].cssRules){\n",
              "    if (rule.selectorText=='body') {\n",
              "      rule.style.fontSize = '30px'\n",
              "      break\n",
              "    }\n",
              "  }\n",
              "  "
            ],
            "text/plain": [
              "<IPython.core.display.Javascript object>"
            ]
          },
          "metadata": {
            "tags": []
          }
        },
        {
          "output_type": "display_data",
          "data": {
            "text/plain": [
              "Terrible news! There are still 30688165 seconds left until 2022"
            ]
          },
          "metadata": {
            "tags": []
          }
        }
      ]
    }
  ]
}