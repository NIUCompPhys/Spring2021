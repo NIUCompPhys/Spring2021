%matplotlib inline
import matplotlib.pyplot as plt
plot.show([[0,0],[1,1]], linewidth=4,label='test plot')
plot.show()
